{
 "cells": [
  {
   "cell_type": "code",
   "execution_count": null,
   "id": "418acc34",
   "metadata": {},
   "outputs": [],
   "source": [
    "import pandas as pd\n",
    "import numpy as np\n",
    "import matplotlib.pyplot as plt\n",
    "import seaborn as sns\n",
    "import plotly.express as px\n",
    "import plotly.graph_objects as go\n",
    "from plotly.offline import iplot\n",
    "from sklearn.preprocessing import LabelEncoder\n",
    "from sklearn.model_selection import train_test_split, RandomizedSearchCV, GridSearchCV\n",
    "from sklearn.model_selection import cross_val_score,KFold\n",
    "from sklearn.ensemble import RandomForestRegressor\n",
    "from sklearn.linear_model import LogisticRegression, LinearRegression\n",
    "from sklearn.metrics import classification_report, confusion_matrix\n",
    "from sklearn.metrics import mean_squared_error\n",
    "from sklearn.inspection import permutation_importance\n",
    "from sklearn.metrics import accuracy_score\n",
    "from sklearn.svm import SVC\n",
    "from sklearn.preprocessing import StandardScaler  \n",
    "from sklearn.metrics import r2_score\n",
    "from scipy import stats\n",
    "import shap\n",
    "import xgboost as xgb\n",
    "%matplotlib inline"
   ]
  },
  {
   "cell_type": "code",
   "execution_count": null,
   "id": "bf8d37eb",
   "metadata": {},
   "outputs": [],
   "source": [
    "df = pd.read_csv(\"../input/property-rentals/property_rentals.csv\")\n",
    "df.head()"
   ]
  },
  {
   "cell_type": "code",
   "execution_count": null,
   "id": "a833ddb5",
   "metadata": {},
   "outputs": [],
   "source": [
    "df.info()"
   ]
  },
  {
   "cell_type": "code",
   "execution_count": null,
   "id": "3b47af31",
   "metadata": {},
   "outputs": [],
   "source": [
    "df.describe()"
   ]
  },
  {
   "cell_type": "code",
   "execution_count": null,
   "id": "ce8be0c7",
   "metadata": {},
   "outputs": [],
   "source": [
    "df['price'] = df['price'].str.replace(',', '').str.replace('$', '').str.replace('\"', '').astype(float)"
   ]
  },
  {
   "cell_type": "code",
   "execution_count": null,
   "id": "770dc67b",
   "metadata": {},
   "outputs": [],
   "source": [
    "df['bedrooms'].fillna(np.mean(df['bedrooms']),inplace=True)\n",
    "df['bathrooms'].fillna(np.mean(df['bathrooms']), inplace=True)"
   ]
  },
  {
   "cell_type": "code",
   "execution_count": null,
   "id": "3ca0076a",
   "metadata": {},
   "outputs": [],
   "source": [
    "df.info()"
   ]
  },
  {
   "cell_type": "code",
   "execution_count": null,
   "id": "cf026c16",
   "metadata": {},
   "outputs": [],
   "source": [
    "df.describe()"
   ]
  },
  {
   "cell_type": "code",
   "execution_count": null,
   "id": "b884f634",
   "metadata": {},
   "outputs": [],
   "source": [
    "custom_template = {\n",
    "    \"layout\": go.Layout(\n",
    "        font={\n",
    "            \"family\": \"Nunito\",\n",
    "            \"size\": 14,\n",
    "            \"color\": \"#707070\",\n",
    "        },\n",
    "        title={\n",
    "            \"font\": {\n",
    "                \"family\": \"Lato\",\n",
    "                \"size\": 20,\n",
    "                \"color\": \"#1f1f1f\",\n",
    "            },\n",
    "        },\n",
    "        plot_bgcolor=\"#ffffff\",\n",
    "        paper_bgcolor=\"#ffffff\",\n",
    "        colorway=px.colors.qualitative.G10,\n",
    "    )\n",
    "}"
   ]
  },
  {
   "cell_type": "code",
   "execution_count": null,
   "id": "0abf7f93",
   "metadata": {},
   "outputs": [],
   "source": [
    "def format_title(title, subtitle=None, subtitle_font_size=14):\n",
    "    title = f'<b>{title}</b>'\n",
    "    if not subtitle:\n",
    "        return title\n",
    "    subtitle = f'<span style=\"font-size: {subtitle_font_size}px;\">{subtitle}</span>'\n",
    "    return f'{title}<br>{subtitle}'"
   ]
  },
  {
   "cell_type": "code",
   "execution_count": null,
   "id": "3e1bb25d",
   "metadata": {},
   "outputs": [],
   "source": [
    "sns.set()\n",
    "prices = px.histogram(\n",
    "        data_frame=df,\n",
    "        x= 'price',\n",
    "        labels={\"price\":\"Price\"},\n",
    "        opacity=0.75,\n",
    "        title=format_title(\"Price Distribution\", \"Getting a look at how it is distributed\"),\n",
    "        template=custom_template)\n",
    "\n",
    "fig = go.Figure(data=prices)\n",
    "fig.add_vline(x=np.mean(df.price), line_dash = 'dash', line_color = 'firebrick')\n",
    "iplot(fig)"
   ]
  },
  {
   "cell_type": "code",
   "execution_count": null,
   "id": "a8f9648a",
   "metadata": {},
   "outputs": [],
   "source": [
    "fig = px.scatter_geo(df, lat='latitude', lon='longitude',hover_name=\"price\", template=custom_template)\n",
    "fig.update_layout(title=format_title(\"Geography of Properties\", \"Getting the property location on the map\"), geo = dict(\n",
    "            scope='usa',\n",
    "            projection_type='albers usa',\n",
    "            showland = True\n",
    "        ))\n",
    "fig.show()"
   ]
  }
 ],
 "metadata": {
  "kernelspec": {
   "display_name": "Python 3 (ipykernel)",
   "language": "python",
   "name": "python3"
  },
  "language_info": {
   "codemirror_mode": {
    "name": "ipython",
    "version": 3
   },
   "file_extension": ".py",
   "mimetype": "text/x-python",
   "name": "python",
   "nbconvert_exporter": "python",
   "pygments_lexer": "ipython3",
   "version": "3.10.5"
  }
 },
 "nbformat": 4,
 "nbformat_minor": 5
}
